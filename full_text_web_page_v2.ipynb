{
  "nbformat": 4,
  "nbformat_minor": 0,
  "metadata": {
    "colab": {
      "name": "Untitled0.ipynb",
      "version": "0.3.2",
      "provenance": [],
      "include_colab_link": true
    },
    "kernelspec": {
      "name": "python3",
      "display_name": "Python 3"
    }
  },
  "cells": [
    {
      "cell_type": "markdown",
      "metadata": {
        "id": "view-in-github",
        "colab_type": "text"
      },
      "source": [
        "<a href=\"https://colab.research.google.com/github/ArjunRajaSekhar/python-projects/blob/master/full_text_web_page_v2.ipynb\" target=\"_parent\"><img src=\"https://colab.research.google.com/assets/colab-badge.svg\" alt=\"Open In Colab\"/></a>"
      ]
    },
    {
      "metadata": {
        "id": "kdYcb82cywsI",
        "colab_type": "code",
        "outputId": "5b642a79-5a08-4975-a565-dc784477eae1",
        "colab": {
          "base_uri": "https://localhost:8080/",
          "height": 54
        }
      },
      "cell_type": "code",
      "source": [
        "from urllib.request import urlopen\n",
        "from bs4 import BeautifulSoup\n",
        "\n",
        "url = \"https://10times.com/top100/technology\"\n",
        "html = urllib.request.urlopen(url).read()\n",
        "soup = BeautifulSoup(html)\n",
        "\n",
        "# kill all script and style elements\n",
        "for script in soup([\"script\", \"style\"]):\n",
        "    script.extract()    # rip it out\n",
        "\n",
        "# get text\n",
        "text = soup.get_text()\n",
        "\n",
        "# break into lines and remove leading and trailing space on each\n",
        "lines = (line.strip() for line in text.splitlines())\n",
        "# break multi-headlines into a line each\n",
        "chunks = (phrase.strip() for line in lines for phrase in line.split(\"  \"))\n",
        "# drop blank lines\n",
        "text = '\\n'.join(chunk for chunk in chunks if chunk)\n",
        "\n",
        "print(text.encode('utf-8'))"
      ],
      "execution_count": 4,
      "outputs": [
        {
          "output_type": "stream",
          "text": [
            "b\"Top 100 Technology Events, Trade Fairs, Conferences to Attend - Global Ranking 2019\\nTrade Shows Conferences Top 100 Venues\\nLogin\\nAdd Event Promote Event Download App Top 100 IT & Technology Events Ranking of popular trade fairs, trade shows & conferences you should participate. The only global event ranking table to calibrate the performance of events in their core missions after carefully considering factors like : audience reach,\\nopportunities created, size, rating, format and international outlook.\\nWe use 11 carefully calibrated indexes to provide the most comprehensive and balanced evaluation of the value visitors and exhibitors can drive from an event. These include - industry, audience reach, opportunities created, size, rating, audience spread, format, purchasing power of visitors, geographic location, international outlook & number of editions of an event.All IndustryAgriculture & ForestryAnimals & PetsApparel & ClothingArts & CraftsAuto & AutomotiveBaby, Kids & MaternityBanking & FinanceBuilding & ConstructionBusiness ServicesEducation & TrainingElectric & ElectronicsEntertainment & MediaEnvironment & WasteFashion & BeautyFood & BeveragesHome & OfficeHospitalityIndustrial EngineeringIT & TechnologyLogistics & TransportationMedical & PharmaMiscellaneousPacking & PackagingPower & EnergyScience & ResearchSecurity & DefenseTelecommunicationTravel & TourismWellness, Health & Fitness#adhesives & sealants#advertising#aerospace#air & water management#air, aviation & airports#amusement & attractions#antiques & philately#architecture & designing#astrology#auto shows#automation & robotics#ayurveda & herbal#bakery & confectionery#bathroom & kitchen#bicycles, rickshaw#biotechnology#blockchain#books & publishing#cables & wires#chemicals & dyes#computer & gadgets#consumer appliances#consumer fair#cosmetics#dies & moulds#drugs & medicines#fabrications#fashion shows#foundry, casting & forging#franchising & retailing#furnishings & decor#furniture#gems & jewelry#gifts & gifting#glass & glassware#horticulture & floriculture#hospitals & surgical#hotel, restaurant#household consumables#hr, jobs & career#industrial products#internet & startups#knitting & stitching#leather & leatherite#lights & lighting#marine & boat#meat, poultry & seafood#minerals, metals & ores#music & sound#natural & organic#natural stones#paints & coatings#paper, pulp & board#petroleum, oil & gas#photography & imaging#plant & machinery#plastic & polymers#print & printing#railway & roadways#real estate & property#renewable energy#repair & maintenance#rubber#scientific instruments#shipping & ports#solar energy#sports & sporting#stationery#tea & coffee#textile, fabrics & yarns#tools & equipments#toys & games#veterinary#wedding & bridal#welding & cutting#wine & spiritsAll CountryAlbaniaAlgeriaArgentinaArmeniaAustraliaAustriaAzerbaijanBahamasBahrainBangladeshBelarusBelgiumBhutanBosnia & HerzegovinaBotswanaBrazilBulgariaCambodiaCanadaChileChinaColombiaCosta RicaCroatiaCyprusCzech RepublicDenmarkEcuadorEgyptEstoniaEthiopiaFinlandFranceGeorgiaGermanyGhanaGreeceHong KongHungaryIcelandIndiaIndonesiaIranIraqIrelandIsraelItalyJapanJordanKazakhstanKenyaKuwaitLatviaLebanonLithuaniaLuxembourgMacau (China)MalaysiaMaltaMauritiusMexicoMoldovaMonacoMongoliaMoroccoMozambiqueMyanmarNepalNetherlandsNew ZealandNigeriaNorwayOmanPakistanPanamaPeruPhilippinesPolandPortugalPuerto RicoQatarRomaniaRussiaSaudi ArabiaSerbiaSingaporeSlovakiaSloveniaSouth AfricaSouth KoreaSpainSri LankaSwedenSwitzerlandTaiwanTanzaniaThailandTunisiaTurkeyUAEUgandaUKUkraineUruguayUSAVietnamZambiaZimbabweTop Brands Intersec Messe Frankfurt Middle East GmbH 3 Locations3K Followers Tibco Now TIBCO Software Inc 4 Locations30 FollowersTop EventsRankEventWhenWhereCategoryRating1 Intersec19 - 21 Jan 2020 UAEDubaiIT & Technology4.42 CEBIT Hannover26 - 28 Jun 2019 GermanyHanoverIT & Technology4.33 China International Internet of Things Exhibition30 Jul - 01 Aug 2019 ChinaShenzhen TelecommunicationIT & Technology3.74 Integrated Systems Europe10 - 14 Feb 2020 NetherlandsAmsterdamIT & Technology4.45 International Conference on Computer Science Networks and Information ...09 - 10 Aug 2019 CanadaMontrealIT & Technology4.06 Gitex Technology Week06 - 10 Oct 2019 UAEDubai TelecommunicationIT & Technology4.37 Hannover Messe01 - 05 Apr 2019 GermanyHanoverIT & Technology4.48 Guangzhou Entertainment Technology Show08 - 11 May 2019 ChinaGuangzhouIT & Technology4.59 Korea Smart Device Trade Show14 - 16 Jul 2018 South KoreaSeoul Electric & ElectronicsIT & Technology3.810 China (Shenzhen) International Internet & E-commerce Expo10 - 12 Oct 2019 ChinaShenzhen Logistics & TransportationIT & Technology3.511 NAB Show06 - 11 Apr 2019 USALas VegasIT & Technology4.612 Canada Premier IT Security Conference09 - 10 Oct 2019 CanadaToronto Business ServicesIT & Technology4.713 Baoan Industry Development Expo24 - 26 Jul 2019 ChinaShenzhen Electric & ElectronicsIT & Technology3.814 Korea Electronics Show08 - 11 Oct 2019 South KoreaSeoul Electric & ElectronicsIT & Technology4.715 Computex Taipei28 May - 01 Jun 2019 TaiwanTaipeiIT & Technology4.616 Smart Cards Expo25 - 27 Sep 2019 IndiaGreater Noida Electric & ElectronicsIT & Technology4.217 World Usability Congress16 - 17 Oct 2019 AustriaGraz Auto & AutomotiveIT & Technology4.218 Light Middle East15 - 17 Oct 2019 UAEDubaiIT & Technology4.019 Cybertech Tel Aviv28 - 30 Jan 2019 IsraelTel Aviv-YafoIT & Technology4.420 iTech Toronto07 - 07 May 2019 CanadaMississaugaIT & Technology4.121 Cairo ICT25 - 28 Nov 2018 EgyptCairo TelecommunicationIT & Technology4.122 ConFoo Web Techno Conference13 - 15 Mar 2019 CanadaMontrealIT & Technology5.023 SPS IPC Drives26 - 28 Nov 2019 GermanyNurembergIT & Technology4.024 CONNECT Chennai09 - 10 Oct 2018 IndiaChennaiIT & Technology4.525 ITExpo12 - 14 Feb 2020 USAFort LauderdaleIT & Technology4.126 International Wireless Communications Expo04 - 08 Mar 2019 USALas Vegas TelecommunicationIT & Technology4.427 CommunicAsia18 - 20 Jun 2019 SingaporeSingapore TelecommunicationIT & Technology4.528 Northern California Facilities Expo09 - 10 Oct 2019 USASanta Clara Industrial EngineeringIT & Technology4.329 IoTshow.in26 - 28 Feb 2019 IndiaBengaluru Electric & ElectronicsIT & Technology4.030 Shanghaitex25 - 28 Nov 2019 ChinaShanghai Apparel & ClothingIT & Technology4.531 International Conference on Computer Science and Software Engineering04 - 06 Nov 2019 CanadaMarkhamIT & Technology-32 Ireland International Conference on Education23 - 25 Apr 2019 IrelandDublin Education & TrainingIT & Technology3.633 China Information Technology Expo09 - 11 Apr 2019 ChinaShenzhenIT & Technology4.034 Toronto Cybersecurity Conference21 - 21 Mar 2019 CanadaTorontoIT & Technology3.535 Dmexco11 - 12 Sep 2019 GermanyCologneIT & Technology4.436 Garmentech Bangladesh15 - 18 Jan 2020 BangladeshDhakaIT & Technology4.337 The world's Entertainment Content Market14 - 17 Oct 2019 FranceCannesIT & Technology Entertainment & Media4.338 Cebit Australia29 - 31 Oct 2019 AustraliaSydneyIT & Technology3.939 China Hi-Tech Fair14 - 18 Nov 2018 ChinaShenzhenIT & Technology4.340 International Conference on Engineering & Technology Computer Basic & ...15 - 16 Feb 2019 UAEDubai Education & TrainingIT & Technology4.141 Taipei International Electronics Show16 - 18 Oct 2019 TaiwanTaipei Electric & ElectronicsIT & Technology4.042 The British Invention Show23 - 26 Oct 2019 UKLondonIT & Technology3.143 International Conference on IT & Computer Science14 - 15 Apr 2019 USANew York Education & TrainingIT & Technology1.744 Seoul International Invention Fair06 - 09 Dec 2018 South KoreaSeoul Science & ResearchIT & Technology4.645 International Conference on Engineering & Technology Computer Basic & ...18 - 19 Feb 2019 South KoreaSeoulIT & Technology4.446 Mobile Tech Expo09 - 11 Jan 2020 USAOrlando Electric & ElectronicsIT & Technology4.347 Convergence India - International Exhibition & Conference19 - 21 Feb 2020 IndiaNew Delhi TelecommunicationIT & Technology4.448 International Conference of Wireless Networks03 - 05 Jul 2019 UKLondon TelecommunicationIT & Technology-49 International ICT Expo13 - 16 Apr 2019 Hong KongHong Kong Electric & ElectronicsIT & Technology4.650 International Conference on Robotics, Automation and Communication Eng...30 - 30 Dec 2018 IndiaMumbai Industrial EngineeringIT & Technology3.551 CISO Canada Summit12 - 12 Feb 2019 CanadaMontrealIT & Technology-52 Malaysia IT Fair Kuala Lumpur31 Aug - 02 Sep 2019 MalaysiaKuala LumpurIT & Technology3.453 China International Optoelectronic Exposition04 - 07 Sep 2019 ChinaShenzhen Industrial EngineeringIT & Technology4.354 Qwebec Expo30 Jul - 02 Aug 2019 CanadaMontrealIT & Technology2.555 Connect Nigeria Business Fair26 - 27 Apr 2019 NigeriaLagos Business ServicesIT & Technology4.556 The PC Show30 May - 02 Jun 2019 SingaporeSingaporeIT & Technology3.157 Startup Expo06 - 06 Oct 2018 IndiaNew DelhiIT & Technology4.058 International Conference on Computer and Information Engineering02 - 03 Apr 2019 USANew YorkIT & Technology2.059 Software Development Expo & Conference08 - 10 May 2019 JapanKotoIT & Technology4.360 New York Cyber Security Summit03 - 03 Oct 2019 USANew York Security & DefenseIT & Technology3.061 Big Data And Analytics05 - 06 Mar 2019 CanadaTorontoIT & Technology5.062 Travel Technology Europe20 - 21 Feb 2019 UKLondon Travel & TourismIT & Technology4.363 E3 Expo11 - 13 Jun 2019 USALos Angeles Electric & ElectronicsIT & Technology4.364 International Conference on Human Computing, Education and Information...20 - 21 Jul 2018 CanadaVancouver Education & TrainingIT & Technology4.365 Internet World EXPO12 - 13 Mar 2019 GermanyMunich Business ServicesIT & Technology4.066 Global Gaming Expo14 - 17 Oct 2019 USALas VegasIT & Technology Entertainment & Media4.567 International Conference on Information Technology and Computer Scienc...17 - 18 Aug 2018 CanadaTorontoIT & Technology5.068 International Conference on Science Technology and Management10 - 11 Nov 2019 QatarDoha Education & TrainingIT & Technology4.069 International Conference on IT & Computer Science07 - 08 Jun 2019 CanadaTorontoIT & Technology5.070 InterPlas Thailand19 - 22 Jun 2019 ThailandBangkok Industrial EngineeringIT & Technology4.571 India Electronics Week26 - 28 Feb 2019 IndiaBengaluru Electric & ElectronicsIT & Technology4.172 Visual Impact Sydney13 - 16 Aug 2019 AustraliaSydney Industrial EngineeringIT & Technology3.973 IP EXPO Europe09 - 10 Oct 2019 UKLondonIT & Technology4.274 Edmonton's IT Conference & Exhibition18 - 18 Oct 2019 CanadaEdmontonIT & Technology4.775 NBM Show Long Beach15 - 17 Aug 2019 USALong Beach Packing & PackagingIT & Technology4.176 International Conference on Engineering & Technology Computer Basic & ...16 - 17 Feb 2019 AustraliaMelbourne Science & ResearchIT & Technology4.777 SAP Sapphire Now07 - 09 May 2019 USAOrlando Business ServicesIT & Technology4.878 Slush Conference21 - 22 Nov 2019 FinlandHelsinkiIT & Technology4.979 Indus-tech Industrial Expo08 - 10 Mar 2019 IndiaBhiwadi Industrial EngineeringIT & Technology2.780 International Conference on Science, Technology and Management18 - 19 Jul 2019 South KoreaSeoul Science & ResearchIT & Technology5.081 iENA Nuremberg31 Oct - 03 Nov 2019 GermanyNurembergIT & Technology5.082 Dubai Design Week12 - 17 Nov 2018 UAEDubai Building & ConstructionIT & Technology4.783 SecuTech Expo08 - 10 May 2019 TaiwanTaipei Security & DefenseIT & Technology4.484 Poultry Tech Summit20 - 22 Nov 2019 USAAtlanta Agriculture & ForestryIT & Technology5.085 Global Mining IT & Communication Summit07 - 08 Nov 2018 CanadaTorontoIT & Technology3.786 3D Inside Printing Conference And Expo26 - 28 Jun 2019 South KoreaGoyang-si Packing & PackagingIT & Technology4.087 Internet of Things India Expo19 - 21 Feb 2020 IndiaNew DelhiIT & Technology4.188 Manufacturing Expo19 - 22 Jun 2019 ThailandBangkok Industrial EngineeringIT & Technology4.189 3DPRINTEXPO05 - 06 Aug 2019 IndiaNew Delhi Industrial EngineeringIT & Technology4.090 International Conference on IT & Computer Science11 - 12 Mar 2019 UKLondon Education & TrainingIT & Technology3.291 International Conference on Computer, Engineering, Law, Education and ...13 - 14 Dec 2019 South KoreaSeoul Education & TrainingIT & Technology3.092 Embedded Systems Expo & Conference10 - 12 Apr 2019 JapanKotoIT & Technology4.093 African Youth Leadership Summit21 - 25 Sep 2019 MoroccoMarrakesh Business ServicesIT & Technology4.094 Digital Media Summit09 - 09 May 2018 CanadaToronto Business ServicesIT & Technology4.195 Retail Asia Conference & Expo07 - 10 May 2019 Hong KongHong Kong Business ServicesIT & Technology4.896 International Conference on Engineering & Technology Computer Basic & ...09 - 10 Mar 2019 TurkeyIstanbul Education & TrainingIT & Technology4.897 Congress for Customer Service and Contact Center18 - 21 Feb 2019 GermanyBerlin Business ServicesIT & Technology4.498 International Conference on Science Technology and Management28 - 29 Aug 2019 CanadaToronto Science & ResearchIT & Technology5.099 CTCO05 - 07 Feb 2019 FranceLyon TelecommunicationIT & Technology4.0100 iFX Expo International22 - 24 May 2018 CyprusLimassolIT & Technology4.3\\nAndroid\\niPhone\\nAboutCareer (Join us)Media & Press ReleasesHelp Center / FAQFeedbackProducts & ServicesEvent Management SoftwareEvent AppsEvent WebsiteEvent MarketingList your EventOrganizer LoginCompanyTestimonialsWidgetAll Event\\n- by Country | by IndustryTrade Shows - by Country | by IndustryConferences - by Country | by IndustryTop 100 Events By continuing past this page, you agree to our Terms of Service, Cookie Policy, Privacy Policy and Content Policies. All trademarks are properties of their respective owners. \\xc2\\xa9 2014-2019 - Tentimes Online Private Limited. All rights reserved.\"\n"
          ],
          "name": "stdout"
        }
      ]
    },
    {
      "metadata": {
        "id": "H6uxgDcCzKCL",
        "colab_type": "code",
        "colab": {}
      },
      "cell_type": "code",
      "source": [
        ""
      ],
      "execution_count": 0,
      "outputs": []
    }
  ]
}